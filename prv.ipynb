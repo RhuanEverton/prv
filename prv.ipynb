{
  "nbformat": 4,
  "nbformat_minor": 0,
  "metadata": {
    "accelerator": "GPU",
    "colab": {
      "name": "Prova métodos numéricos.ipynb",
      "provenance": [],
      "collapsed_sections": []
    },
    "kernelspec": {
      "display_name": "Python 3",
      "name": "python3"
    },
    "language_info": {
      "name": "python"
    }
  },
  "cells": [
    {
      "cell_type": "markdown",
      "metadata": {
        "id": "J6DDtFnH2yVp"
      },
      "source": [
        "3"
      ]
    },
    {
      "cell_type": "code",
      "metadata": {
        "colab": {
          "base_uri": "https://localhost:8080/"
        },
        "id": "PJIGU2sUXFIM",
        "outputId": "4a59c98f-1c07-4b1d-d646-368aaaefe92e"
      },
      "source": [
        "# Algoritmo de integração pelo método do Trapézio\n",
        "import numpy as np            # Importa módulo numpy para criação das matrizes e vetores\n",
        "\n",
        "# Dados\n",
        "a = 0.\n",
        "b = 1\n",
        "n = 8\n",
        "\n",
        "# Função para ser integrada\n",
        "def function(x):\n",
        "    return np.sqrt(1 - x **2)\n",
        "\n",
        "# Largura dos intervalos\n",
        "h = (b-a)/n\n",
        "\n",
        "x = np.linspace(a,b,n+1)\n",
        "f = function(x)\n",
        "\n",
        "\n",
        "I_aux = 0.0\n",
        "for i in range(1,n):\n",
        "    I_aux = I_aux + 2*f[i]\n",
        "        \n",
        "I_aux = f[0] + I_aux + f[n]\n",
        "I = (b-a)*I_aux/(2*n)\n",
        "\n",
        "\n",
        "print(I)\n"
      ],
      "execution_count": 2,
      "outputs": [
        {
          "output_type": "stream",
          "name": "stdout",
          "text": [
            "0.7724547860892933\n"
          ]
        }
      ]
    },
    {
      "cell_type": "markdown",
      "metadata": {
        "id": "D896n99g3Ed5"
      },
      "source": [
        "4"
      ]
    },
    {
      "cell_type": "code",
      "metadata": {
        "id": "74H7KDj_Pqya",
        "colab": {
          "base_uri": "https://localhost:8080/"
        },
        "outputId": "f2f7539e-ef83-4634-a0e4-d79c529c1508"
      },
      "source": [
        "# Algoritmo de integração pelo método do Trapézio\n",
        "import numpy as np            # Importa módulo numpy para criação das matrizes e vetores\n",
        "\n",
        "# Dados\n",
        "a = 0.\n",
        "b = 3.\n",
        "n = 8\n",
        "\n",
        "# Função para ser integrada\n",
        "def function(x):\n",
        "    return 1/(2 - 2*x + x**2)\n",
        "\n",
        "# Largura dos intervalos\n",
        "h = (b-a)/n\n",
        "\n",
        "x = np.linspace(a,b,n+1)\n",
        "f = function(x)\n",
        "\n",
        "\n",
        "I_aux = 0.0\n",
        "for i in range(1,n):\n",
        "    I_aux = I_aux + 2*f[i]\n",
        "        \n",
        "I_aux = f[0] + I_aux + f[n]\n",
        "I = (b-a)*I_aux/(2*n)\n",
        "\n",
        "\n",
        "print(I)\n"
      ],
      "execution_count": 1,
      "outputs": [
        {
          "output_type": "stream",
          "name": "stdout",
          "text": [
            "1.8848200028407733\n"
          ]
        }
      ]
    },
    {
      "cell_type": "markdown",
      "metadata": {
        "id": "SMK2sJqA3aD4"
      },
      "source": [
        "5"
      ]
    },
    {
      "cell_type": "code",
      "metadata": {
        "colab": {
          "base_uri": "https://localhost:8080/"
        },
        "id": "3VhLk18r3cSY",
        "outputId": "dabc2967-10ce-4fe5-bc13-1e104591d754"
      },
      "source": [
        "# Algoritmo de integração pela Regra de 1/3 de Simpson\n",
        "import numpy as np            # Importa módulo numpy para criação das matrizes e vetores\n",
        "\n",
        "# Dados\n",
        "a = 0.0\n",
        "b = 1.8\n",
        "n = 6\n",
        "\n",
        "\n",
        "# Função para ser integrada\n",
        "def function(x):\n",
        "    return np.exp(-(x ** 2 / 2))\n",
        "\n",
        "# Largura dos intervalos\n",
        "h = (b-a)/n\n",
        "\n",
        "x = np.linspace(a,b,n+1)\n",
        "f = function(x)\n",
        "\n",
        "\n",
        "I_aux = 0.0\n",
        "for i in range(1,n):\n",
        "    if (i % 2) == 0:  \n",
        "        I_aux = I_aux + 2*f[i]\n",
        "    else:\n",
        "        I_aux = I_aux + 4*f[i]\n",
        "        \n",
        "I_aux = f[0] + I_aux + f[n]\n",
        "I = (b-a)*I_aux/(3*n)\n",
        "\n",
        "result = ((0.5 + I/(np.sqrt(2*np.pi))))\n",
        "print(result)"
      ],
      "execution_count": 10,
      "outputs": [
        {
          "output_type": "stream",
          "name": "stdout",
          "text": [
            "0.9640676398553036\n"
          ]
        }
      ]
    },
    {
      "cell_type": "markdown",
      "metadata": {
        "id": "NjSE5Stm3m2n"
      },
      "source": [
        "6"
      ]
    },
    {
      "cell_type": "code",
      "metadata": {
        "colab": {
          "base_uri": "https://localhost:8080/"
        },
        "id": "gOadVY563nmw",
        "outputId": "bf9d8110-2c70-4225-a77f-69a4fd0958ed"
      },
      "source": [
        "# Algoritmo de integração pelo método do Trapézio\n",
        "import numpy as np            # Importa módulo numpy para criação das matrizes e vetores\n",
        "\n",
        "# Dados\n",
        "a = 0.0\n",
        "b = 0.8\n",
        "n = 8\n",
        "\n",
        "\n",
        "# Função para ser integrada\n",
        "def function(x):\n",
        "    return 0.2 + 25*x - 200*x**2 + 675*x**3 - 900*x**4 + 400*x**5\n",
        "\n",
        "# Largura dos intervalos\n",
        "h = (b-a)/n\n",
        "\n",
        "x = np.linspace(a,b,n+1)\n",
        "f = function(x)\n",
        "\n",
        "\n",
        "I_aux = 0.0\n",
        "for i in range(1,n):\n",
        "    I_aux = I_aux + 2*f[i]\n",
        "        \n",
        "I_aux = f[0] + I_aux + f[n]\n",
        "I = (b-a)*I_aux/(2*n)\n",
        "\n",
        "print(I)"
      ],
      "execution_count": 3,
      "outputs": [
        {
          "output_type": "stream",
          "name": "stdout",
          "text": [
            "1.600800000000004\n"
          ]
        }
      ]
    },
    {
      "cell_type": "markdown",
      "metadata": {
        "id": "5G8ukEky3_7m"
      },
      "source": [
        "7"
      ]
    },
    {
      "cell_type": "code",
      "metadata": {
        "colab": {
          "base_uri": "https://localhost:8080/"
        },
        "id": "YM3FMG9c4Als",
        "outputId": "0c7a7a71-a057-41f0-a33b-a3bad7c6ad23"
      },
      "source": [
        "# Algoritmo de interpolação de Lagrange\n",
        "import numpy as np            # Importa módulo numpy para criação das matrizes e vetores\n",
        "\n",
        "# Dados\n",
        "x = np.array([1, 4, 6])\n",
        "fx = np.array([0, 1.386294, 1.791760])\n",
        "\n",
        "# Grau do polinômio\n",
        "n = 2\n",
        "\n",
        "# Ponto de interpolação\n",
        "xx = 2\n",
        "\n",
        "#Cálculo dos Coeficientes de Lagrange\n",
        "L = np.ones(n+1)\n",
        "\n",
        "f1 = 0\n",
        "for i in range(n+1):\n",
        "    prod = 1\n",
        "    for j in range(n+1):\n",
        "        if i!=j:\n",
        "           prod = prod*(xx-x[j])/(x[i]-x[j])\n",
        "    L[i] = prod\n",
        "    f1 = f1 + L[i]*fx[i]\n",
        "print(f1)"
      ],
      "execution_count": 6,
      "outputs": [
        {
          "output_type": "stream",
          "name": "stdout",
          "text": [
            "0.5658439999999999\n"
          ]
        }
      ]
    },
    {
      "cell_type": "markdown",
      "metadata": {
        "id": "RWWgtH8I4L0a"
      },
      "source": [
        "8"
      ]
    },
    {
      "cell_type": "code",
      "metadata": {
        "colab": {
          "base_uri": "https://localhost:8080/"
        },
        "id": "PwDNs_Zz4Mh0",
        "outputId": "027401d6-2b98-46a9-848c-944ea8b36181"
      },
      "source": [
        "# Algoritmo de integração pelo método do Trapézio\n",
        "import numpy as np            # Importa módulo numpy para criação das matrizes e vetores\n",
        "\n",
        "# Dados\n",
        "a = 0.0\n",
        "b = 10\n",
        "n = 8\n",
        "\n",
        "# Função para ser integrada\n",
        "def function(x):\n",
        "    g = 9.81\n",
        "    c = 12.5\n",
        "    m = 68.1\n",
        "    return ( 1-np.exp(-c/m*x) )*g*m/c\n",
        "\n",
        "x = np.linspace(a,b,n+1)\n",
        "f = function(x)\n",
        "\n",
        "\n",
        "I_aux = 0.0\n",
        "for i in range(1,n):\n",
        "    I_aux = I_aux + 2*f[i]\n",
        "        \n",
        "I_aux = f[0] + I_aux + f[n]\n",
        "I = (b-a)*I_aux/(2*n)\n",
        "\n",
        "print(I)"
      ],
      "execution_count": 5,
      "outputs": [
        {
          "output_type": "stream",
          "name": "stdout",
          "text": [
            "288.6578575761946\n"
          ]
        }
      ]
    },
    {
      "cell_type": "markdown",
      "metadata": {
        "id": "taxQU20y4NX4"
      },
      "source": [
        "9"
      ]
    },
    {
      "cell_type": "code",
      "metadata": {
        "colab": {
          "base_uri": "https://localhost:8080/"
        },
        "id": "ICCsGntH4N82",
        "outputId": "3893f422-bd5c-430a-949a-f490ac2e8b2a"
      },
      "source": [
        "# Algoritmo de integração pelo método do Trapézio\n",
        "import numpy as np            # Importa módulo numpy para criação das matrizes e vetores\n",
        "\n",
        "# Dados\n",
        "a = 2\n",
        "b = 3\n",
        "n = 4\n",
        "\n",
        "\n",
        "# Função para ser integrada\n",
        "def function(x):\n",
        "    return 1/(1+x)\n",
        "\n",
        "# Largura dos intervalos\n",
        "h = (b-a)/n\n",
        "\n",
        "x = np.linspace(a,b,n+1)\n",
        "f = function(x)\n",
        "\n",
        "\n",
        "I_aux = 0.0\n",
        "for i in range(1,n):\n",
        "    I_aux = I_aux + 2*f[i]\n",
        "        \n",
        "I_aux = f[0] + I_aux + f[n]\n",
        "I = (b-a)*I_aux/(2*n)\n",
        "\n",
        "print(I)"
      ],
      "execution_count": 4,
      "outputs": [
        {
          "output_type": "stream",
          "name": "stdout",
          "text": [
            "0.2879349816849817\n"
          ]
        }
      ]
    }
  ]
}